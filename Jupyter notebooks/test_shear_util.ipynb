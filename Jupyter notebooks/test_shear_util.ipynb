{
 "cells": [
  {
   "cell_type": "code",
   "execution_count": 1,
   "metadata": {},
   "outputs": [],
   "source": [
    "import numpy as np\n",
    "import shear_util as su"
   ]
  },
  {
   "cell_type": "markdown",
   "metadata": {},
   "source": [
    "# Calculate moment radius in two ways"
   ]
  },
  {
   "cell_type": "code",
   "execution_count": 2,
   "metadata": {},
   "outputs": [
    {
     "data": {
      "text/plain": [
       "(array([1.85965677, 2.62995182]), array([1.87082869, 2.64575131, 3.24037035]))"
      ]
     },
     "execution_count": 2,
     "metadata": {},
     "output_type": "execute_result"
    }
   ],
   "source": [
    "Q = np.array([[3  , 0.2],\n",
    "              [0.2,   4]])\n",
    "\n",
    "su.calc_moment_radius([Q,2*Q], method='det'), su.calc_moment_radius([Q,2*Q,3*Q], method='trace')"
   ]
  },
  {
   "cell_type": "markdown",
   "metadata": {},
   "source": [
    "# Matrix diagonalization"
   ]
  },
  {
   "cell_type": "code",
   "execution_count": 3,
   "metadata": {},
   "outputs": [
    {
     "data": {
      "text/plain": [
       "array([[2.96148352, 0.        ],\n",
       "       [0.        , 4.03851648]])"
      ]
     },
     "execution_count": 3,
     "metadata": {},
     "output_type": "execute_result"
    }
   ],
   "source": [
    "su.diagonalize(Q)"
   ]
  },
  {
   "cell_type": "code",
   "execution_count": 4,
   "metadata": {},
   "outputs": [
    {
     "data": {
      "text/plain": [
       "array([[[2.96148352, 0.        ],\n",
       "        [0.        , 4.03851648]],\n",
       "\n",
       "       [[2.96148352, 0.        ],\n",
       "        [0.        , 4.03851648]],\n",
       "\n",
       "       [[5.92296704, 0.        ],\n",
       "        [0.        , 8.07703296]]])"
      ]
     },
     "execution_count": 4,
     "metadata": {},
     "output_type": "execute_result"
    }
   ],
   "source": [
    "# vectorization test\n",
    "su.diagonalize([Q,Q,2*Q])"
   ]
  },
  {
   "cell_type": "markdown",
   "metadata": {},
   "source": [
    "# Compare two methods of finding hlr from a second-moment tensor"
   ]
  },
  {
   "cell_type": "code",
   "execution_count": 5,
   "metadata": {},
   "outputs": [
    {
     "data": {
      "text/plain": [
       "(2.0393339803376183, 2.039333980337618)"
      ]
     },
     "execution_count": 5,
     "metadata": {},
     "output_type": "execute_result"
    }
   ],
   "source": [
    "# su.hlr_from_moments(Q) is not as efficient\n",
    "\n",
    "Q = np.array([[3, 0],\n",
    "              [0, 3]])\n",
    "\n",
    "su.hlr_from_moments(Q), su.hlr_from_moments_fast(Q)"
   ]
  },
  {
   "cell_type": "code",
   "execution_count": 6,
   "metadata": {},
   "outputs": [
    {
     "data": {
      "text/plain": [
       "(2.194162032740561, 2.1941620327329114)"
      ]
     },
     "execution_count": 6,
     "metadata": {},
     "output_type": "execute_result"
    }
   ],
   "source": [
    "Q = np.array([[3  , 0.2],\n",
    "              [0.2,   4]])\n",
    "\n",
    "su.hlr_from_moments(Q), su.hlr_from_moments_fast(Q)"
   ]
  },
  {
   "cell_type": "code",
   "execution_count": 7,
   "metadata": {},
   "outputs": [
    {
     "data": {
      "text/plain": [
       "(1.3718477568917127, array([1.37184776, 1.37184776]))"
      ]
     },
     "execution_count": 7,
     "metadata": {},
     "output_type": "execute_result"
    }
   ],
   "source": [
    "Q = np.array([[2   , -0.61],\n",
    "              [-0.61,    1]])\n",
    "\n",
    "su.hlr_from_moments(Q), su.hlr_from_moments_fast([Q,Q])"
   ]
  },
  {
   "cell_type": "code",
   "execution_count": null,
   "metadata": {},
   "outputs": [],
   "source": [
    "su.get_shape_covmat_fast(hlr_array,e1_array,e2)"
   ]
  },
  {
   "cell_type": "markdown",
   "metadata": {},
   "source": [
    "Let's start with a second-moment matrix, `Q`, and see if we can get the same `Q` back after using the inverse function."
   ]
  },
  {
   "cell_type": "code",
   "execution_count": 8,
   "metadata": {},
   "outputs": [
    {
     "name": "stdout",
     "output_type": "stream",
     "text": [
      "hlr_Q = 1.4398168504108615\n",
      "\n",
      "Q_out =\n",
      "\n",
      " [[2.3 1.4]\n",
      " [1.4 1.5]]\n",
      "\n",
      "hlr_Q_out = 1.4398168504108615\n"
     ]
    }
   ],
   "source": [
    "Q = np.array([[2.3, 1.4],\n",
    "              [1.4, 1.5]])\n",
    "\n",
    "hlr_Q, e1, e2 = su.hlr_from_moments_fast(Q, return_shape=True)\n",
    "print('hlr_Q =', hlr_Q)\n",
    "Q_out = su.get_shape_covmat_fast(hlr_Q,e1,e2)\n",
    "print('\\nQ_out =\\n\\n', Q_out)\n",
    "hlr_Q_out = su.hlr_from_moments_fast(Q_out)\n",
    "print('\\nhlr_Q_out =', hlr_Q_out) # should be equal to hlr_Q"
   ]
  },
  {
   "cell_type": "code",
   "execution_count": 9,
   "metadata": {},
   "outputs": [
    {
     "data": {
      "text/plain": [
       "(array([0.1281782, 0.1281782]), array([0.44862369, 0.44862369]))"
      ]
     },
     "execution_count": 9,
     "metadata": {},
     "output_type": "execute_result"
    }
   ],
   "source": [
    "su.shape_from_moments([Q,Q], return_emag=False)"
   ]
  },
  {
   "cell_type": "code",
   "execution_count": 10,
   "metadata": {},
   "outputs": [
    {
     "data": {
      "text/plain": [
       "(array([0.1281782, 0.1281782]),\n",
       " array([0.44862369, 0.44862369]),\n",
       " array([0.46657568, 0.46657568]))"
      ]
     },
     "execution_count": 10,
     "metadata": {},
     "output_type": "execute_result"
    }
   ],
   "source": [
    "su.shape_from_moments([Q,Q], return_emag=True)"
   ]
  },
  {
   "cell_type": "code",
   "execution_count": 11,
   "metadata": {},
   "outputs": [
    {
     "data": {
      "text/plain": [
       "array([1.43981685, 1.43981685])"
      ]
     },
     "execution_count": 11,
     "metadata": {},
     "output_type": "execute_result"
    }
   ],
   "source": [
    "su.hlr_from_moments_fast([Q,Q], return_shape=False)"
   ]
  },
  {
   "cell_type": "code",
   "execution_count": 12,
   "metadata": {},
   "outputs": [
    {
     "data": {
      "text/plain": [
       "(array([1.43981685, 1.43981685]),\n",
       " array([0.1281782, 0.1281782]),\n",
       " array([0.44862369, 0.44862369]))"
      ]
     },
     "execution_count": 12,
     "metadata": {},
     "output_type": "execute_result"
    }
   ],
   "source": [
    "su.hlr_from_moments_fast([Q,Q], return_shape=True)"
   ]
  },
  {
   "cell_type": "markdown",
   "metadata": {},
   "source": [
    "# More vectorization tests"
   ]
  },
  {
   "cell_type": "code",
   "execution_count": 13,
   "metadata": {},
   "outputs": [
    {
     "data": {
      "text/plain": [
       "array([1.41508108, 1.17548171, 2.25656126])"
      ]
     },
     "execution_count": 13,
     "metadata": {},
     "output_type": "execute_result"
    }
   ],
   "source": [
    "Q_multi = np.array([[[2, 0], [0, 1]],\n",
    "                    [[1, 0.1], [0.1, 1]],\n",
    "                    [[3.5, 0.9], [0.9, 4.0]]])\n",
    "\n",
    "su.hlr_from_moments_fast(Q_multi)"
   ]
  },
  {
   "cell_type": "code",
   "execution_count": 14,
   "metadata": {},
   "outputs": [
    {
     "data": {
      "text/plain": [
       "(array([ 0.17157288,  0.        , -0.03386706]),\n",
       " array([0.        , 0.05012563, 0.12192142]),\n",
       " array([0.17157288, 0.05012563, 0.12653778]))"
      ]
     },
     "execution_count": 14,
     "metadata": {},
     "output_type": "execute_result"
    }
   ],
   "source": [
    "e1, e2, e = su.shape_from_moments(Q_multi)\n",
    "e1, e2, e"
   ]
  },
  {
   "cell_type": "code",
   "execution_count": 15,
   "metadata": {},
   "outputs": [
    {
     "data": {
      "text/plain": [
       "(array([ 0.17157288,  0.        , -0.03386706]),\n",
       " array([0.        , 0.05012563, 0.12192142]),\n",
       " array([0.17157288, 0.05012563, 0.12653778]))"
      ]
     },
     "execution_count": 15,
     "metadata": {},
     "output_type": "execute_result"
    }
   ],
   "source": [
    "# compare it to WLD estimation\n",
    "sigma_m,sigma_p,a,b,beta,e1,e2 = su.moments_size_and_shape(Q_multi)\n",
    "e1, e2, e"
   ]
  },
  {
   "cell_type": "code",
   "execution_count": 16,
   "metadata": {},
   "outputs": [
    {
     "data": {
      "text/plain": [
       "(0.1715728752538099, 0.0, 0.1715728752538099)"
      ]
     },
     "execution_count": 16,
     "metadata": {},
     "output_type": "execute_result"
    }
   ],
   "source": [
    "# try on the first matrix one in the Q array\n",
    "su.shape_from_moments(Q_multi[0])"
   ]
  },
  {
   "cell_type": "markdown",
   "metadata": {},
   "source": [
    "# Test the HLR shear model"
   ]
  },
  {
   "cell_type": "code",
   "execution_count": 17,
   "metadata": {},
   "outputs": [
    {
     "data": {
      "text/plain": [
       "0.6584671759264941"
      ]
     },
     "execution_count": 17,
     "metadata": {},
     "output_type": "execute_result"
    }
   ],
   "source": [
    "hsm = su.HLRShearModel()\n",
    "hlr_postshear = 0.8 # arcsec\n",
    "e = 0.44 # ellipticity magnitude\n",
    "hlr_preshear = hsm.get_hlr_preshear(hlr_postshear, e, magnify=True)\n",
    "hlr_preshear"
   ]
  },
  {
   "cell_type": "code",
   "execution_count": 18,
   "metadata": {},
   "outputs": [
    {
     "data": {
      "text/plain": [
       "0.7332614798899851"
      ]
     },
     "execution_count": 18,
     "metadata": {},
     "output_type": "execute_result"
    }
   ],
   "source": [
    "hlr_preshear = hsm.get_hlr_preshear(hlr_postshear, e, magnify=False)\n",
    "hlr_preshear"
   ]
  },
  {
   "cell_type": "code",
   "execution_count": 19,
   "metadata": {},
   "outputs": [
    {
     "data": {
      "text/plain": [
       "0.7451352885166235"
      ]
     },
     "execution_count": 19,
     "metadata": {},
     "output_type": "execute_result"
    }
   ],
   "source": [
    "hlr_preshear = 1.0\n",
    "e = 0.52\n",
    "hlr_postshear = hsm.get_hlr_preshear(hlr_preshear, e, magnify=True)\n",
    "hlr_postshear"
   ]
  },
  {
   "cell_type": "code",
   "execution_count": 20,
   "metadata": {},
   "outputs": [
    {
     "data": {
      "text/plain": [
       "0.8723539233897909"
      ]
     },
     "execution_count": 20,
     "metadata": {},
     "output_type": "execute_result"
    }
   ],
   "source": [
    "hlr_postshear = hsm.get_hlr_preshear(hlr_preshear, e, magnify=False)\n",
    "hlr_postshear"
   ]
  },
  {
   "cell_type": "markdown",
   "metadata": {},
   "source": [
    "Let's start with an `hlr` and `e` pair and see if we can get the same `hlr` back by using two consecutive operation that are inverse of eachother."
   ]
  },
  {
   "cell_type": "code",
   "execution_count": 21,
   "metadata": {},
   "outputs": [
    {
     "data": {
      "text/plain": [
       "1.05"
      ]
     },
     "execution_count": 21,
     "metadata": {},
     "output_type": "execute_result"
    }
   ],
   "source": [
    "hlr_preshear = 1.05\n",
    "e = 0.7\n",
    "hsm.get_hlr_postshear(hsm.get_hlr_preshear(hlr_preshear, e, magnify=True), e, magnify=True)"
   ]
  },
  {
   "cell_type": "code",
   "execution_count": 22,
   "metadata": {},
   "outputs": [
    {
     "data": {
      "text/plain": [
       "1.05"
      ]
     },
     "execution_count": 22,
     "metadata": {},
     "output_type": "execute_result"
    }
   ],
   "source": [
    "hsm.get_hlr_postshear(hsm.get_hlr_preshear(hlr_preshear, e, magnify=False), e, magnify=False)"
   ]
  },
  {
   "cell_type": "markdown",
   "metadata": {},
   "source": [
    "It sholdn't work if you magnify one of them and not the other one (for non-zero `e`)."
   ]
  },
  {
   "cell_type": "code",
   "execution_count": 23,
   "metadata": {},
   "outputs": [
    {
     "data": {
      "text/plain": [
       "1.4702940843958747"
      ]
     },
     "execution_count": 23,
     "metadata": {},
     "output_type": "execute_result"
    }
   ],
   "source": [
    "hsm.get_hlr_postshear(hsm.get_hlr_preshear(hlr_preshear, e, magnify=False), e, magnify=True)"
   ]
  },
  {
   "cell_type": "code",
   "execution_count": 24,
   "metadata": {},
   "outputs": [
    {
     "data": {
      "text/plain": [
       "0.7498499869521024"
      ]
     },
     "execution_count": 24,
     "metadata": {},
     "output_type": "execute_result"
    }
   ],
   "source": [
    "hsm.get_hlr_postshear(hsm.get_hlr_preshear(hlr_preshear, e, magnify=True), e, magnify=False)"
   ]
  }
 ],
 "metadata": {
  "kernelspec": {
   "display_name": "Python 3",
   "language": "python",
   "name": "python3"
  },
  "language_info": {
   "codemirror_mode": {
    "name": "ipython",
    "version": 3
   },
   "file_extension": ".py",
   "mimetype": "text/x-python",
   "name": "python",
   "nbconvert_exporter": "python",
   "pygments_lexer": "ipython3",
   "version": "3.7.7"
  }
 },
 "nbformat": 4,
 "nbformat_minor": 4
}
